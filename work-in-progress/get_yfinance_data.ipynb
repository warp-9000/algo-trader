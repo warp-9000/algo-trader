{
 "cells": [
  {
   "cell_type": "markdown",
   "id": "460ab879",
   "metadata": {},
   "source": [
    "# Get Yahoo Finance Data\n",
    "\n",
    "We want to download historical stock data from Yahoo Finance. This jupyter lab notebook will be used to try to download this data.\n",
    "\n",
    "from datetime import datetime\n",
    "* We are going to try to use https://www.backtrader.com/docu/datayahoo/ Backtrader's Yahoo DataFeed to download the data"
   ]
  },
  {
   "cell_type": "code",
   "execution_count": 1,
   "id": "c2121b75",
   "metadata": {},
   "outputs": [],
   "source": [
    "import backtrader as bt\n",
    "import sys\n",
    "\n",
    "from datetime import datetime\n",
    "from pathlib import Path\n",
    "\n",
    "import os.path  # To manage paths\n",
    "import sys  # To find out the script name (in argv[0])"
   ]
  },
  {
   "cell_type": "markdown",
   "id": "38eeddeb",
   "metadata": {},
   "source": [
    "Backtrader DataFeed Common Parameters\n",
    "\n",
    "Parameters:\n",
    "* dataname (default: None) MUST BE PROVIDED\n",
    "    * The meaning varies with the data feed type (file location, ticker, …)\n",
    "    \n",
    "* name (default: ‘’)\n",
    "    * Meant for decorative purposes in plotting. If not specified it may be derived from dataname (example: last part of a file path)\n",
    "\n",
    "* fromdate (default: mindate)\n",
    "    * Python datetime object indicating that any datetime prior to this should be ignored\n",
    "\n",
    "* todate (default: maxdate)\n",
    "\n",
    "    * Python datetime object indicating that any datetime posterior to this should be ignored\n",
    "\n",
    "* timeframe (default: TimeFrame.Days)\n",
    "\n",
    "    * Potential values: Ticks, Seconds, Minutes, Days, Weeks, Months and Years\n",
    "\n",
    "* compression (default: 1)\n",
    "\n",
    "    * Number of actual bars per bar. Informative. Only effective in Data Resampling/Replaying.\n",
    "\n",
    "* sessionstart (default: None)\n",
    "\n",
    "    * Indication of session starting time for the data. May be used by classes for purposes like resampling\n",
    "\n",
    "* sessionend (default: None)\n",
    "\n",
    "    * Indication of session ending time for the data. May be used by classes for purposes like resampling"
   ]
  },
  {
   "cell_type": "code",
   "execution_count": 2,
   "id": "77efc05b",
   "metadata": {},
   "outputs": [],
   "source": [
    "# this is for live data\n",
    "# data = bt.feeds.YahooFinanceData(\n",
    "#     dataname='MSFT',\n",
    "#     fromdate=datetime(2000, 1, 1),\n",
    "#     todate=datetime(2022, 6, 30)\n",
    "# )"
   ]
  },
  {
   "cell_type": "code",
   "execution_count": 3,
   "id": "c459ee05",
   "metadata": {},
   "outputs": [],
   "source": [
    "# datapath = os.path.join(modpath, 'data/MSFT.csv')\n"
   ]
  },
  {
   "cell_type": "code",
   "execution_count": 4,
   "id": "e1788454",
   "metadata": {},
   "outputs": [],
   "source": [
    "# Create a Data Feed\n",
    "data = bt.feeds.YahooFinanceCSVData(\n",
    "    dataname='data/MSFT.csv'\n",
    "    # Do not pass values before this date\n",
    "    #fromdate=datetime.datetime(2000, 1, 4),\n",
    "    # Do not pass values after this date\n",
    "    #todate=datetime.datetime(2000, 12, 31),\n",
    "    #reverse=False\n",
    ")\n"
   ]
  },
  {
   "cell_type": "code",
   "execution_count": 5,
   "id": "2de3ab20",
   "metadata": {},
   "outputs": [
    {
     "data": {
      "text/plain": [
       "<backtrader.feeds.yahoo.YahooFinanceCSVData at 0x7f8b518def98>"
      ]
     },
     "metadata": {},
     "output_type": "display_data"
    }
   ],
   "source": [
    "display(data)"
   ]
  },
  {
   "cell_type": "code",
   "execution_count": null,
   "id": "af56a593",
   "metadata": {},
   "outputs": [],
   "source": []
  },
  {
   "cell_type": "code",
   "execution_count": 6,
   "id": "04393402",
   "metadata": {},
   "outputs": [
    {
     "data": {
      "text/plain": [
       "\"\\n# this is for 'offline' CSV data\\n# we will try to use this function\\ndata = bt.feeds.YahooFinanceCSVData(\\n\\n    dataname='MSFT', # The meaning varies with the data feed type (file location, ticker, …)\\n    name='Microsoft', # Meant for decorative purposes in plotting. If not specified it may be derived from dataname (example: last part of a file path)\\n    fromdate='', # Python datetime object indicating that any datetime prior to this should be ignored\\n    todate='', # Python datetime object indicating that any datetime posterior to this should be ignored\\n    timeframe=TimeFrame.Days, # (default: TimeFrame.Days) # Potential values: Ticks, Seconds, Minutes, Days, Weeks, Months and Years\\n    compression=1, # (default: 1) # Number of actual bars per bar. Informative. Only effective in Data Resampling/Replaying.\\n    sessionstart=None, # (default: None) # Indication of session starting time for the data. May be used by classes for purposes like resampling\\n    sessionend=None # (default: None)` # Indication of session ending time for the data. May be used by classes for purposes like resampling\\n    \\n)\\n\""
      ]
     },
     "execution_count": 6,
     "metadata": {},
     "output_type": "execute_result"
    }
   ],
   "source": [
    "\"\"\"\n",
    "    dataname # The ticker to download (‘YHOO’ for Yahoo own stock quotes)\n",
    "    proxies # A dict indicating which proxy to go through for the download as in {‘http’: ‘http://myproxy.com’} or {‘http’: ‘http://127.0.0.1:8080’}\n",
    "    period # The timeframe to download data in. Pass ‘w’ for weekly and ‘m’ for monthly.\n",
    "    reverse # [2018-11-16] The latest incarnation of Yahoo online downloads returns the data in the proper order. The default value of reverse for the online download is therefore set to False\n",
    "    adjclose # Whether to use the dividend/split adjusted close and adjust all values according to it.\n",
    "    urlhist # The url of the historical quotes in Yahoo Finance used to gather a crumb authorization cookie for the download\n",
    "    urldown # The url of the actual download server\n",
    "    retries # Number of times (each) to try to get a crumb cookie and download the data\n",
    ")\n",
    "\"\"\"\n",
    "\n",
    "\"\"\"\n",
    "# this is for 'offline' CSV data\n",
    "# we will try to use this function\n",
    "data = bt.feeds.YahooFinanceCSVData(\n",
    "\n",
    "    dataname='MSFT', # The meaning varies with the data feed type (file location, ticker, …)\n",
    "    name='Microsoft', # Meant for decorative purposes in plotting. If not specified it may be derived from dataname (example: last part of a file path)\n",
    "    fromdate='', # Python datetime object indicating that any datetime prior to this should be ignored\n",
    "    todate='', # Python datetime object indicating that any datetime posterior to this should be ignored\n",
    "    timeframe=TimeFrame.Days, # (default: TimeFrame.Days) # Potential values: Ticks, Seconds, Minutes, Days, Weeks, Months and Years\n",
    "    compression=1, # (default: 1) # Number of actual bars per bar. Informative. Only effective in Data Resampling/Replaying.\n",
    "    sessionstart=None, # (default: None) # Indication of session starting time for the data. May be used by classes for purposes like resampling\n",
    "    sessionend=None # (default: None)` # Indication of session ending time for the data. May be used by classes for purposes like resampling\n",
    "    \n",
    ")\n",
    "\"\"\"\n",
    "\n"
   ]
  }
 ],
 "metadata": {
  "kernelspec": {
   "display_name": "Python 3",
   "language": "python",
   "name": "python3"
  },
  "language_info": {
   "codemirror_mode": {
    "name": "ipython",
    "version": 3
   },
   "file_extension": ".py",
   "mimetype": "text/x-python",
   "name": "python",
   "nbconvert_exporter": "python",
   "pygments_lexer": "ipython3",
   "version": "3.5.6"
  }
 },
 "nbformat": 4,
 "nbformat_minor": 5
}
