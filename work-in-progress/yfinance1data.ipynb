{
 "cells": [
  {
   "cell_type": "markdown",
   "id": "c7d0d9d0-da6d-431b-a693-a5a6b7ef959d",
   "metadata": {},
   "source": [
    "Pandas Datareader\n",
    "https://pandas-datareader.readthedocs.io/en/latest/\n"
   ]
  },
  {
   "cell_type": "code",
   "execution_count": 6,
   "id": "7adebad7-b015-4a0d-95d8-7d272dc21bfc",
   "metadata": {},
   "outputs": [],
   "source": [
    "#If you do not have Pandas Datareader installed type pip install pandas_datareader and execute. \n",
    "import pandas_datareader as pdr"
   ]
  },
  {
   "cell_type": "code",
   "execution_count": 9,
   "id": "0d0e0eb2-e2c6-4458-b225-f54b4c9da338",
   "metadata": {},
   "outputs": [],
   "source": [
    "#Import dictionaries and libraries \n",
    "import yfinance as yf\n",
    "import numpy as np\n",
    "import pandas as pd\n",
    "from dash import Dash\n",
    "import plotly.express as px\n",
    "import dash\n",
    "import matplotlib.pyplot as plot"
   ]
  },
  {
   "cell_type": "code",
   "execution_count": 2,
   "id": "3f695907-5742-4bcd-8891-0a570aa9fe01",
   "metadata": {},
   "outputs": [],
   "source": [
    "#Define ticker symbols\n",
    "ticker_symbols= [\"SPY\", \"META\", \"AAPL\", \"AMZN\", \"NFLX\", \"GOOG\", \"MSFT\" ]"
   ]
  },
  {
   "cell_type": "code",
   "execution_count": 3,
   "id": "3f52142a-77ce-424b-9cef-25acdb90bf5e",
   "metadata": {},
   "outputs": [],
   "source": [
    "#Get ticker symbols data using yahoo finanace ticker funcitionPandas Datareader https://pandas-datareader.readthedocs.io/en/latest/\n",
    "SPY = yf.Ticker(ticker_symbols[0])\n",
    "META = yf.Ticker(ticker_symbols[1])\n",
    "AAPL = yf.Ticker(ticker_symbols[2])\n",
    "AMZN = yf.Ticker(ticker_symbols[3])\n",
    "NFLX = yf.Ticker(ticker_symbols[4])\n",
    "GOOG = yf.Ticker(ticker_symbols[5])\n",
    "MSFT = yf.Ticker(ticker_symbols[6])"
   ]
  },
  {
   "cell_type": "code",
   "execution_count": 11,
   "id": "e51f5bc9-1894-4161-9b9a-4941e24a89a7",
   "metadata": {},
   "outputs": [],
   "source": [
    "SPY_df = SPY.history(period='1Day', start= '2002-03-01', end= '2022-06-30')\n",
    "META_df = META.history(period='1Day', start= '2002-03-01', end= '2022-06-30')\n",
    "AAPL_df = META.history(period='1Day', start= '2002-03-01', end= '2022-06-30')\n",
    "AMZN_df = AAPL.history(period='1Day', start= '2002-03-01', end= '2022-06-30')\n",
    "NFLX_df = NFLX.history(period='1Day', start= '2002-03-01', end= '2022-06-30')\n",
    "GOOG_df = GOOG.history(period='1Day', start= '2002-03-01', end= '2022-06-30')\n",
    "MSFT_df = MSFT.history(period='1Day', start= '2002-03-01', end= '2022-06-30')"
   ]
  },
  {
   "cell_type": "code",
   "execution_count": 15,
   "id": "d277e299-5718-4d3a-bde3-272e5a330404",
   "metadata": {},
   "outputs": [
    {
     "data": {
      "text/html": [
       "<div>\n",
       "<style scoped>\n",
       "    .dataframe tbody tr th:only-of-type {\n",
       "        vertical-align: middle;\n",
       "    }\n",
       "\n",
       "    .dataframe tbody tr th {\n",
       "        vertical-align: top;\n",
       "    }\n",
       "\n",
       "    .dataframe thead th {\n",
       "        text-align: right;\n",
       "    }\n",
       "</style>\n",
       "<table border=\"1\" class=\"dataframe\">\n",
       "  <thead>\n",
       "    <tr style=\"text-align: right;\">\n",
       "      <th></th>\n",
       "      <th>Open</th>\n",
       "      <th>High</th>\n",
       "      <th>Low</th>\n",
       "      <th>Close</th>\n",
       "      <th>Volume</th>\n",
       "      <th>Dividends</th>\n",
       "      <th>Stock Splits</th>\n",
       "    </tr>\n",
       "    <tr>\n",
       "      <th>Date</th>\n",
       "      <th></th>\n",
       "      <th></th>\n",
       "      <th></th>\n",
       "      <th></th>\n",
       "      <th></th>\n",
       "      <th></th>\n",
       "      <th></th>\n",
       "    </tr>\n",
       "  </thead>\n",
       "  <tbody>\n",
       "    <tr>\n",
       "      <th>2012-05-18</th>\n",
       "      <td>42.049999</td>\n",
       "      <td>45.000000</td>\n",
       "      <td>38.000000</td>\n",
       "      <td>38.230000</td>\n",
       "      <td>573576400</td>\n",
       "      <td>0</td>\n",
       "      <td>0</td>\n",
       "    </tr>\n",
       "    <tr>\n",
       "      <th>2012-05-21</th>\n",
       "      <td>36.529999</td>\n",
       "      <td>36.660000</td>\n",
       "      <td>33.000000</td>\n",
       "      <td>34.029999</td>\n",
       "      <td>168192700</td>\n",
       "      <td>0</td>\n",
       "      <td>0</td>\n",
       "    </tr>\n",
       "    <tr>\n",
       "      <th>2012-05-22</th>\n",
       "      <td>32.610001</td>\n",
       "      <td>33.590000</td>\n",
       "      <td>30.940001</td>\n",
       "      <td>31.000000</td>\n",
       "      <td>101786600</td>\n",
       "      <td>0</td>\n",
       "      <td>0</td>\n",
       "    </tr>\n",
       "    <tr>\n",
       "      <th>2012-05-23</th>\n",
       "      <td>31.370001</td>\n",
       "      <td>32.500000</td>\n",
       "      <td>31.360001</td>\n",
       "      <td>32.000000</td>\n",
       "      <td>73600000</td>\n",
       "      <td>0</td>\n",
       "      <td>0</td>\n",
       "    </tr>\n",
       "    <tr>\n",
       "      <th>2012-05-24</th>\n",
       "      <td>32.950001</td>\n",
       "      <td>33.209999</td>\n",
       "      <td>31.770000</td>\n",
       "      <td>33.029999</td>\n",
       "      <td>50237200</td>\n",
       "      <td>0</td>\n",
       "      <td>0</td>\n",
       "    </tr>\n",
       "  </tbody>\n",
       "</table>\n",
       "</div>"
      ],
      "text/plain": [
       "                 Open       High        Low      Close     Volume  Dividends  \\\n",
       "Date                                                                           \n",
       "2012-05-18  42.049999  45.000000  38.000000  38.230000  573576400          0   \n",
       "2012-05-21  36.529999  36.660000  33.000000  34.029999  168192700          0   \n",
       "2012-05-22  32.610001  33.590000  30.940001  31.000000  101786600          0   \n",
       "2012-05-23  31.370001  32.500000  31.360001  32.000000   73600000          0   \n",
       "2012-05-24  32.950001  33.209999  31.770000  33.029999   50237200          0   \n",
       "\n",
       "            Stock Splits  \n",
       "Date                      \n",
       "2012-05-18             0  \n",
       "2012-05-21             0  \n",
       "2012-05-22             0  \n",
       "2012-05-23             0  \n",
       "2012-05-24             0  "
      ]
     },
     "execution_count": 15,
     "metadata": {},
     "output_type": "execute_result"
    }
   ],
   "source": [
    "AAPL_df.head()"
   ]
  },
  {
   "cell_type": "code",
   "execution_count": null,
   "id": "9aaafdc7-a08b-4ee1-a961-ea8dbe8d074f",
   "metadata": {},
   "outputs": [
    {
     "data": {
      "image/png": "[encoded data removed]",
      "text/plain": [
       "<Figure size 432x288 with 1 Axes>"
      ]
     },
     "metadata": {
      "needs_background": "light"
     },
     "output_type": "display_data"
    }
   ],
   "source": [
    "import matplotlib.pyplot as plt\n",
    "import numpy as np\n",
    "import pandas as pd\n",
    "np.random.seed(1974)\n",
    "\n",
    "from itertools import cycle\n",
    "\n",
    "# Generate Data\n",
    "num = 20\n",
    "x, y = np.random.random((2, num))\n",
    "labels = np.random.choice(['a', 'b', 'c'], num)\n",
    "df = pd.DataFrame(dict(x=x, y=y, label=labels))\n",
    "\n",
    "groups = df.groupby('label')\n",
    "\n",
    "markers = ['x', 'o', '^']\n",
    "    \n",
    "# Plot\n",
    "fig, ax = plt.subplots()\n",
    "ax.margins(0.05) # Optional, just adds 5% padding to the autoscaling\n",
    "for (name, group), marker in zip(groups, cycle(markers)):\n",
    "    ax.plot(group.x, group.y, marker=marker, linestyle='', ms=12, label=name)\n",
    "ax.legend()\n",
    "\n",
    "plt.show()"
   ]
  },
  {
   "cell_type": "code",
   "execution_count": null,
   "id": "bc3942e4-df6c-4d6d-b631-4e68aa4dd396",
   "metadata": {},
   "outputs": [],
   "source": []
  }
 ],
 "metadata": {
  "kernelspec": {
   "display_name": "Python 3 (ipykernel)",
   "language": "python",
   "name": "python3"
  },
  "language_info": {
   "codemirror_mode": {
    "name": "ipython",
    "version": 3
   },
   "file_extension": ".py",
   "mimetype": "text/x-python",
   "name": "python",
   "nbconvert_exporter": "python",
   "pygments_lexer": "ipython3",
   "version": "3.7.13"
  }
 },
 "nbformat": 4,
 "nbformat_minor": 5
}
